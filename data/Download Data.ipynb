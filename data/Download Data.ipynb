{
 "cells": [
  {
   "cell_type": "code",
   "execution_count": 7,
   "id": "4ca6ad99-8a3b-419b-9e50-8c34a89fc9eb",
   "metadata": {},
   "outputs": [
    {
     "name": "stderr",
     "output_type": "stream",
     "text": [
      "No config specified, defaulting to: amazon_reviews_multi/all_languages\n",
      "Found cached dataset amazon_reviews_multi (C:/Users/andersonh/.cache/huggingface/datasets/amazon_reviews_multi/all_languages/1.0.0/724e94f4b0c6c405ce7e476a6c5ef4f87db30799ad49f765094cf9770e0f7609)\n",
      "No config specified, defaulting to: amazon_reviews_multi/all_languages\n",
      "Found cached dataset amazon_reviews_multi (C:/Users/andersonh/.cache/huggingface/datasets/amazon_reviews_multi/all_languages/1.0.0/724e94f4b0c6c405ce7e476a6c5ef4f87db30799ad49f765094cf9770e0f7609)\n",
      "No config specified, defaulting to: amazon_reviews_multi/all_languages\n",
      "Found cached dataset amazon_reviews_multi (C:/Users/andersonh/.cache/huggingface/datasets/amazon_reviews_multi/all_languages/1.0.0/724e94f4b0c6c405ce7e476a6c5ef4f87db30799ad49f765094cf9770e0f7609)\n"
     ]
    }
   ],
   "source": [
    "import datasets\n",
    "for split in (\"train\", \"test\", \"validation\"):\n",
    "    (\n",
    "        datasets\n",
    "        .load_dataset(\"amazon_reviews_multi\", split=split)\n",
    "        .to_pandas()\n",
    "        .query(\"language == 'en'\")\n",
    "        .to_csv(f\"{split}.csv\", index=False)\n",
    "    )"
   ]
  },
  {
   "cell_type": "code",
   "execution_count": null,
   "id": "b1d4d344-eb9e-4d7a-a3a3-cc3970857857",
   "metadata": {},
   "outputs": [],
   "source": []
  }
 ],
 "metadata": {
  "kernelspec": {
   "display_name": "Python 3 (ipykernel)",
   "language": "python",
   "name": "python3"
  },
  "language_info": {
   "codemirror_mode": {
    "name": "ipython",
    "version": 3
   },
   "file_extension": ".py",
   "mimetype": "text/x-python",
   "name": "python",
   "nbconvert_exporter": "python",
   "pygments_lexer": "ipython3",
   "version": "3.10.9"
  }
 },
 "nbformat": 4,
 "nbformat_minor": 5
}
